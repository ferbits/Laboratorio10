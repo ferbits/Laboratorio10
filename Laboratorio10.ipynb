{
  "nbformat": 4,
  "nbformat_minor": 0,
  "metadata": {
    "colab": {
      "provenance": [],
      "mount_file_id": "1k7Yuy90h1Xe0RBghWJV4JCLEUxzS92O6",
      "authorship_tag": "ABX9TyMYuCtu8St1abWr3tLI/KdS",
      "include_colab_link": true
    },
    "kernelspec": {
      "name": "python3",
      "display_name": "Python 3"
    },
    "language_info": {
      "name": "python"
    }
  },
  "cells": [
    {
      "cell_type": "markdown",
      "metadata": {
        "id": "view-in-github",
        "colab_type": "text"
      },
      "source": [
        "<a href=\"https://colab.research.google.com/github/ferbits/Laboratorio10/blob/main/Laboratorio10.ipynb\" target=\"_parent\"><img src=\"https://colab.research.google.com/assets/colab-badge.svg\" alt=\"Open In Colab\"/></a>"
      ]
    },
    {
      "cell_type": "markdown",
      "source": [
        "#SESION 10-MIO"
      ],
      "metadata": {
        "id": "MH9niUDR_uQS"
      }
    },
    {
      "cell_type": "markdown",
      "source": [
        "#PUNTO 1 DE LA PRIMERA PARTE"
      ],
      "metadata": {
        "id": "1Ym0kaPk_1Xc"
      }
    },
    {
      "cell_type": "code",
      "source": [
        "# Creación del DataFrame y visualización del mismo\n",
        "import pandas as pd\n",
        "import numpy as np\n",
        "datos={\n",
        "'Nombre':['Carlos', 'Ana', 'Luis','Pedro', 'María', None],\n",
        "'Edad':[34, 29, None, 45, 25, 33],\n",
        "'Fecha_Ingreso':['2021-01-15',  '2020/03/12',  '2022-07-01', '2021/12/01', '2021-05-20', '2020-03-12'],\n",
        "'Resultado_Prueba':['Positivo','Negativo', 'Positivo','Positivo', 'Negativo','Negativo']}\n",
        "df=pd.DataFrame(datos)\n",
        "print(df)"
      ],
      "metadata": {
        "colab": {
          "base_uri": "https://localhost:8080/"
        },
        "id": "t2t0Smaq53E7",
        "outputId": "bc1f3b44-8e96-4011-ad53-05f8186e2913"
      },
      "execution_count": null,
      "outputs": [
        {
          "output_type": "stream",
          "name": "stdout",
          "text": [
            "   Nombre  Edad Fecha_Ingreso Resultado_Prueba\n",
            "0  Carlos  34.0    2021-01-15         Positivo\n",
            "1     Ana  29.0    2020/03/12         Negativo\n",
            "2    Luis   NaN    2022-07-01         Positivo\n",
            "3   Pedro  45.0    2021/12/01         Positivo\n",
            "4   María  25.0    2021-05-20         Negativo\n",
            "5    None  33.0    2020-03-12         Negativo\n"
          ]
        }
      ]
    },
    {
      "cell_type": "code",
      "source": [
        "import pandas as pd\n",
        "import numpy as np\n",
        "from dateutil import parser\n",
        "datos={\n",
        "'Nombre':['Carlos', 'Ana', 'Luis','Pedro', 'María', None],\n",
        "'Edad':[34, 29, None, 45, 25, 33],\n",
        "'Fecha_Ingreso':['2021-01-15',  '2020/03/12',  '2022-07-01', '2021/12/01', '2021-05-20', '2020-03-12'],\n",
        "'Resultado_Prueba':['Positivo','Negativo', 'Positivo','Positivo', 'Negativo','Negativo']}\n",
        "df=pd.DataFrame(datos)\n",
        "#Eliminamos el valor faltante de la columna nombre\n",
        "df.dropna(subset=['Nombre'], inplace=True)\n",
        "#En el campo Edad encontramos un valor nulo y lo rellenamos con la media\n",
        "df['Edad'].fillna(df['Edad'].mean(), inplace=True)\n",
        "# Función para convertir fechas a formato YYYY-MM-DD\n",
        "def convertir_fecha(fecha):\n",
        "    try:\n",
        "# Intentamos parsear la fecha y luego aplicamos el formato correcto\n",
        "        fecha_convertida = parser.parse(fecha)\n",
        "        return fecha_convertida.strftime('%Y-%m-%d')\n",
        "    except (parser.ParserError, TypeError, ValueError):\n",
        "        return None\n",
        "#Aplicamos la funcion a la columna fecha\n",
        "df['Fecha_Ingreso'] = df['Fecha_Ingreso'].apply(convertir_fecha)\n",
        "#Convertimos la columna a tipo de dato Fecha\n",
        "df['Fecha_Ingreso'] = pd.to_datetime(df['Fecha_Ingreso'])\n",
        "#Mostramos el DataFrame\n",
        "print(df)"
      ],
      "metadata": {
        "colab": {
          "base_uri": "https://localhost:8080/"
        },
        "id": "ljtCwJa2eWTd",
        "outputId": "f6190987-6042-47c8-ac7d-c7d79ba36a2d"
      },
      "execution_count": null,
      "outputs": [
        {
          "output_type": "stream",
          "name": "stdout",
          "text": [
            "   Nombre   Edad Fecha_Ingreso Resultado_Prueba\n",
            "0  Carlos  34.00    2021-01-15         Positivo\n",
            "1     Ana  29.00    2020-03-12         Negativo\n",
            "2    Luis  33.25    2022-07-01         Positivo\n",
            "3   Pedro  45.00    2021-12-01         Positivo\n",
            "4   María  25.00    2021-05-20         Negativo\n"
          ]
        },
        {
          "output_type": "stream",
          "name": "stderr",
          "text": [
            "<ipython-input-16-ddc8c037dc00>:13: FutureWarning: A value is trying to be set on a copy of a DataFrame or Series through chained assignment using an inplace method.\n",
            "The behavior will change in pandas 3.0. This inplace method will never work because the intermediate object on which we are setting values always behaves as a copy.\n",
            "\n",
            "For example, when doing 'df[col].method(value, inplace=True)', try using 'df.method({col: value}, inplace=True)' or df[col] = df[col].method(value) instead, to perform the operation inplace on the original object.\n",
            "\n",
            "\n",
            "  df['Edad'].fillna(df['Edad'].mean(), inplace=True)\n"
          ]
        }
      ]
    },
    {
      "cell_type": "markdown",
      "source": [
        "#PUNTO 2 DE LA PRIMERA PARTE"
      ],
      "metadata": {
        "id": "F8GCTygDeTn2"
      }
    },
    {
      "cell_type": "code",
      "source": [
        "import pandas as pd\n",
        "import numpy as np\n",
        "from dateutil import parser\n",
        "data={\n",
        "'Cliente_ID':[1, 2, 3, 4, 5 ],\n",
        "'Producto':['A', 'B', 'C','D', 'E'],\n",
        "'Cantidad':[10, 20, None, 5, 15],\n",
        "'Precio':[100, '200$',300, 'cuatrocientos',500],\n",
        "'Fecha_Transacción':['2023-01-15','2023/02/20','2023-03-25','2023/04/30','2023-05-10']}\n",
        "df=pd.DataFrame(data)\n",
        "print(df)"
      ],
      "metadata": {
        "colab": {
          "base_uri": "https://localhost:8080/"
        },
        "id": "NljcYo2-nSJj",
        "outputId": "3edf6004-2812-44ca-eb32-fcc67df462ac"
      },
      "execution_count": 1,
      "outputs": [
        {
          "output_type": "stream",
          "name": "stdout",
          "text": [
            "   Cliente_ID Producto  Cantidad         Precio Fecha_Transacción\n",
            "0           1        A      10.0            100        2023-01-15\n",
            "1           2        B      20.0           200$        2023/02/20\n",
            "2           3        C       NaN            300        2023-03-25\n",
            "3           4        D       5.0  cuatrocientos        2023/04/30\n",
            "4           5        E      15.0            500        2023-05-10\n"
          ]
        }
      ]
    },
    {
      "cell_type": "code",
      "source": [
        "#Rellenamos el valor nulo de la columna cantidad con valor promedio (mean)\n",
        "df['Cantidad'].fillna(df['Cantidad'].mean(),inplace=True)\n",
        "print(df)"
      ],
      "metadata": {
        "colab": {
          "base_uri": "https://localhost:8080/"
        },
        "id": "DaxYDzgrqduP",
        "outputId": "5bf2d5af-bd2f-439c-8ddc-9eee520aa364"
      },
      "execution_count": null,
      "outputs": [
        {
          "output_type": "stream",
          "name": "stdout",
          "text": [
            "   Cliente_ID Producto  Cantidad         Precio Fecha_Transacción\n",
            "0           1        A      10.0            100        2023-01-15\n",
            "1           2        B      20.0           200$        2023/02/20\n",
            "2           3        C      12.5            300        2023-03-25\n",
            "3           4        D       5.0  cuatrocientos        2023/04/30\n",
            "4           5        E      15.0            500        2023-05-10\n"
          ]
        },
        {
          "output_type": "stream",
          "name": "stderr",
          "text": [
            "<ipython-input-30-f87ee588b427>:2: FutureWarning: A value is trying to be set on a copy of a DataFrame or Series through chained assignment using an inplace method.\n",
            "The behavior will change in pandas 3.0. This inplace method will never work because the intermediate object on which we are setting values always behaves as a copy.\n",
            "\n",
            "For example, when doing 'df[col].method(value, inplace=True)', try using 'df.method({col: value}, inplace=True)' or df[col] = df[col].method(value) instead, to perform the operation inplace on the original object.\n",
            "\n",
            "\n",
            "  df['Cantidad'].fillna(df['Cantidad'].mean(),inplace=True)\n"
          ]
        }
      ]
    },
    {
      "cell_type": "code",
      "source": [
        "#Limpiar la columna precios convirtiendo los valores a enteros\n",
        "df['Precio'] = pd.to_numeric(df['Precio'], errors='coerce')\n",
        "print(df)"
      ],
      "metadata": {
        "colab": {
          "base_uri": "https://localhost:8080/"
        },
        "id": "aVa2-Wnvr57U",
        "outputId": "8b4e45a7-6b1f-484b-dec8-aebad15f26a1"
      },
      "execution_count": null,
      "outputs": [
        {
          "output_type": "stream",
          "name": "stdout",
          "text": [
            "   Cliente_ID Producto  Cantidad  Precio Fecha_Transacción\n",
            "0           1        A      10.0   100.0        2023-01-15\n",
            "1           2        B      20.0     NaN        2023/02/20\n",
            "2           3        C      12.5   300.0        2023-03-25\n",
            "3           4        D       5.0   400.0        2023/04/30\n",
            "4           5        E      15.0   500.0        2023-05-10\n"
          ]
        }
      ]
    },
    {
      "cell_type": "code",
      "source": [
        "#Eliminación del valor nulo de la columna precios.\n",
        "df.dropna(subset=['Precio'], inplace=True)\n",
        "print(df)\n"
      ],
      "metadata": {
        "colab": {
          "base_uri": "https://localhost:8080/"
        },
        "id": "p9N_jiR8udU1",
        "outputId": "64c1437c-c8a1-40a2-b3ef-bce22c45d9e8"
      },
      "execution_count": null,
      "outputs": [
        {
          "output_type": "stream",
          "name": "stdout",
          "text": [
            "   Cliente_ID Producto  Cantidad  Precio Fecha_Transacción\n",
            "0           1        A      10.0   100.0        2023-01-15\n",
            "1           3        C      12.5   300.0        2023-03-25\n",
            "2           4        D       5.0   400.0        2023/04/30\n",
            "3           5        E      15.0   500.0        2023-05-10\n"
          ]
        }
      ]
    },
    {
      "cell_type": "code",
      "source": [
        "def convertir_fecha(fecha):\n",
        "    try:\n",
        "# Intentamos parsear la fecha y luego aplicamos el formato correcto\n",
        "        fecha_convertida = parser.parse(fecha)\n",
        "        return fecha_convertida.strftime('%Y-%m-%d')\n",
        "    except (parser.ParserError, TypeError, ValueError):\n",
        "        return None\n",
        "#Aplicamos la funcion a la columna fecha\n",
        "df['Fecha_Transacción'] = df['Fecha_Transacción'].apply(convertir_fecha)\n",
        "#Convertimos la columna a tipo de dato Fecha\n",
        "df['Fecha_Transacción'] = pd.to_datetime(df['Fecha_Transacción'])\n",
        "#Mostramos el DataFrame\n",
        "print(df)"
      ],
      "metadata": {
        "colab": {
          "base_uri": "https://localhost:8080/"
        },
        "id": "wGBU6hoqwVbj",
        "outputId": "f2b2ce0c-3fba-4ea5-cf41-4e298d0eb277"
      },
      "execution_count": null,
      "outputs": [
        {
          "output_type": "stream",
          "name": "stdout",
          "text": [
            "   Cliente_ID Producto  Cantidad  Precio Fecha_Transacción\n",
            "0           1        A      10.0   100.0        2023-01-15\n",
            "1           3        C      12.5   300.0        2023-03-25\n",
            "2           4        D       5.0   400.0        2023-04-30\n",
            "3           5        E      15.0   500.0        2023-05-10\n"
          ]
        }
      ]
    },
    {
      "cell_type": "markdown",
      "source": [
        "#PARTE NÚMERO 2 DEL LABORATORIO 10"
      ],
      "metadata": {
        "id": "5kAA9oLSwsyh"
      }
    },
    {
      "cell_type": "code",
      "source": [
        "#Creación del DataFrame y visualización del mismo.\n",
        "import pandas as pd\n",
        "import numpy as np\n",
        "\n",
        "data={\n",
        "'Nombre':['Juan',\t'Maria',\t'Pedro',\t'Ana',\t'Luisa',\t'Carlos',\t'Juan'],\n",
        "'Edad':[25,\t30, None, 29,\t28,\t200,25],\n",
        "'Email':['juan@mail.com','maria@mail.com','pedro@mail.com','ana@mail.com','luisa@mail.com','carlos@mail.com','juan@mail.com'],\n",
        "'Pais':['colombia','Colombia','Mexico','Argentina','Colombia','Brazil','colombia'],\n",
        "'Genero':['M','F','H','F','Femenino','M','M'],\n",
        "'Visitas':[ 5,7,6,4,8,2,5]}\n",
        "df=pd.DataFrame(data)\n",
        "print(df)"
      ],
      "metadata": {
        "colab": {
          "base_uri": "https://localhost:8080/"
        },
        "id": "MiCr9HE0BrbS",
        "outputId": "9e681c5c-6aa9-4faf-881b-e57cdb78f428"
      },
      "execution_count": null,
      "outputs": [
        {
          "output_type": "stream",
          "name": "stdout",
          "text": [
            "   Nombre   Edad            Email       Pais    Genero  Visitas\n",
            "0    Juan   25.0    juan@mail.com   colombia         M        5\n",
            "1   Maria   30.0   maria@mail.com   Colombia         F        7\n",
            "2   Pedro    NaN   pedro@mail.com     Mexico         H        6\n",
            "3     Ana   29.0     ana@mail.com  Argentina         F        4\n",
            "4   Luisa   28.0   luisa@mail.com   Colombia  Femenino        8\n",
            "5  Carlos  200.0  carlos@mail.com     Brazil         M        2\n",
            "6    Juan   25.0    juan@mail.com   colombia         M        5\n"
          ]
        }
      ]
    },
    {
      "cell_type": "code",
      "source": [
        "#Eliminar duplicados\n",
        "df = df.drop_duplicates()\n",
        "print(df)"
      ],
      "metadata": {
        "colab": {
          "base_uri": "https://localhost:8080/"
        },
        "id": "--JQy4IK3Ktx",
        "outputId": "f8e1a0cb-1024-494e-f10e-150385f58d1e"
      },
      "execution_count": null,
      "outputs": [
        {
          "output_type": "stream",
          "name": "stdout",
          "text": [
            "   Nombre   Edad            Email       Pais     Genero  Visitas\n",
            "0    Juan   25.0    juan@mail.com   colombia  Masculino        5\n",
            "1   Maria   30.0   maria@mail.com   Colombia   Femenino        7\n",
            "2   Pedro   28.5   pedro@mail.com     Mexico  Masculino        6\n",
            "3     Ana   29.0     ana@mail.com  Argentina   Femenino        4\n",
            "4   Luisa   28.0   luisa@mail.com   Colombia   Femenino        8\n",
            "5  Carlos  200.0  carlos@mail.com     Brazil  Masculino        2\n"
          ]
        }
      ]
    },
    {
      "cell_type": "code",
      "source": [
        "#Llenar valores faltantes de 'Edad' y reemplazarlos con la MEDIA\n",
        "df['Edad'].fillna(df['Edad'].median(), inplace=True)\n",
        "print(df)"
      ],
      "metadata": {
        "colab": {
          "base_uri": "https://localhost:8080/"
        },
        "id": "6fyjUeXe3bSo",
        "outputId": "b245b38b-ce80-44e3-cc4c-5ef3041cd37d"
      },
      "execution_count": null,
      "outputs": [
        {
          "output_type": "stream",
          "name": "stdout",
          "text": [
            "   Nombre   Edad            Email       Pais     Genero  Visitas\n",
            "0    Juan   25.0    juan@mail.com   colombia  Masculino        5\n",
            "1   Maria   30.0   maria@mail.com   Colombia   Femenino        7\n",
            "2   Pedro   28.5   pedro@mail.com     Mexico  Masculino        6\n",
            "3     Ana   29.0     ana@mail.com  Argentina   Femenino        4\n",
            "4   Luisa   28.0   luisa@mail.com   Colombia   Femenino        8\n",
            "5  Carlos  200.0  carlos@mail.com     Brazil  Masculino        2\n"
          ]
        },
        {
          "output_type": "stream",
          "name": "stderr",
          "text": [
            "<ipython-input-62-bb1423e8d661>:2: FutureWarning: A value is trying to be set on a copy of a DataFrame or Series through chained assignment using an inplace method.\n",
            "The behavior will change in pandas 3.0. This inplace method will never work because the intermediate object on which we are setting values always behaves as a copy.\n",
            "\n",
            "For example, when doing 'df[col].method(value, inplace=True)', try using 'df.method({col: value}, inplace=True)' or df[col] = df[col].method(value) instead, to perform the operation inplace on the original object.\n",
            "\n",
            "\n",
            "  df['Edad'].fillna(df['Edad'].median(), inplace=True)\n"
          ]
        }
      ]
    },
    {
      "cell_type": "code",
      "source": [
        "#Reemplazar algunos nombres de países y estándarización de los datos.\n",
        "df['Pais']=df['Pais'].str.capitalize().replace({'Brazil': 'Brasil', 'Mexico': 'México'})\n",
        "print(\"\\nDespués de estandarizar los valores:\")\n",
        "print(df)"
      ],
      "metadata": {
        "colab": {
          "base_uri": "https://localhost:8080/"
        },
        "id": "VgVMbZbP37ll",
        "outputId": "ec922be5-4688-4d18-9855-0b00b65e9812"
      },
      "execution_count": null,
      "outputs": [
        {
          "output_type": "stream",
          "name": "stdout",
          "text": [
            "\n",
            "Después de estandarizar los valores:\n",
            "   Nombre   Edad            Email       Pais     Genero  Visitas\n",
            "0    Juan   25.0    juan@mail.com   Colombia  Masculino        5\n",
            "1   Maria   30.0   maria@mail.com   Colombia   Femenino        7\n",
            "2   Pedro   28.5   pedro@mail.com     México  Masculino        6\n",
            "3     Ana   29.0     ana@mail.com  Argentina   Femenino        4\n",
            "4   Luisa   28.0   luisa@mail.com   Colombia   Femenino        8\n",
            "5  Carlos  200.0  carlos@mail.com     Brasil  Masculino        2\n"
          ]
        }
      ]
    },
    {
      "cell_type": "code",
      "source": [
        "#Reemplazar 'M','H' por 'Mujer', 'Hombre'\n",
        "df['Genero'].replace({'M': 'Masculino', 'H': 'Masculino','F': 'Femenino','Femenino': 'Femenino'}, inplace=True)\n",
        "print(\"\\nDespués de estandarizar los valores:\")\n",
        "print(df)"
      ],
      "metadata": {
        "colab": {
          "base_uri": "https://localhost:8080/"
        },
        "id": "8v9v4cJTCh2x",
        "outputId": "f767900d-0b74-4cdc-9f66-12b1c6ac53eb"
      },
      "execution_count": null,
      "outputs": [
        {
          "output_type": "stream",
          "name": "stdout",
          "text": [
            "\n",
            "Después de estandarizar los valores:\n",
            "   Nombre  Edad            Email       Pais     Genero  Visitas\n",
            "0    Juan  25.0    juan@mail.com   Colombia  Masculino        5\n",
            "1   Maria  30.0   maria@mail.com   Colombia   Femenino        7\n",
            "2   Pedro  28.5   pedro@mail.com     México  Masculino        6\n",
            "3     Ana  29.0     ana@mail.com  Argentina   Femenino        4\n",
            "4   Luisa  28.0   luisa@mail.com   Colombia   Femenino        8\n",
            "5  Carlos  28.1  carlos@mail.com     Brasil  Masculino        2\n"
          ]
        },
        {
          "output_type": "stream",
          "name": "stderr",
          "text": [
            "<ipython-input-71-ab7df8fabdd3>:2: FutureWarning: A value is trying to be set on a copy of a DataFrame or Series through chained assignment using an inplace method.\n",
            "The behavior will change in pandas 3.0. This inplace method will never work because the intermediate object on which we are setting values always behaves as a copy.\n",
            "\n",
            "For example, when doing 'df[col].method(value, inplace=True)', try using 'df.method({col: value}, inplace=True)' or df[col] = df[col].method(value) instead, to perform the operation inplace on the original object.\n",
            "\n",
            "\n",
            "  df['Genero'].replace({'M': 'Masculino', 'H': 'Masculino','F': 'Femenino','Femenino': 'Femenino'}, inplace=True)\n"
          ]
        }
      ]
    },
    {
      "cell_type": "code",
      "source": [
        "#Llenar el valor de la  'Edad' atípica de 200 años con la MEDIA\n",
        "#Calcular la media excluyendo valores NaN y el valor atípico (ej. edades mayores de 100)\n",
        "mean_age = df['Edad'][df['Edad'] < 100].mean()\n",
        "# Reemplazar valores NaN y valores atípicos con la media\n",
        "df['Edad'] = df['Edad'].apply(lambda x: mean_age if (pd.isna(x) or x >= 100) else x)\n",
        "print(df)"
      ],
      "metadata": {
        "colab": {
          "base_uri": "https://localhost:8080/"
        },
        "id": "F22zgp3H458y",
        "outputId": "92a08fc7-f5ba-47f0-9ee7-8ea182d0a1f1"
      },
      "execution_count": null,
      "outputs": [
        {
          "output_type": "stream",
          "name": "stdout",
          "text": [
            "   Nombre  Edad            Email       Pais     Genero  Visitas\n",
            "0    Juan  25.0    juan@mail.com   Colombia  Masculino        5\n",
            "1   Maria  30.0   maria@mail.com   Colombia   Femenino        7\n",
            "2   Pedro  28.5   pedro@mail.com     México  Masculino        6\n",
            "3     Ana  29.0     ana@mail.com  Argentina   Femenino        4\n",
            "4   Luisa  28.0   luisa@mail.com   Colombia   Femenino        8\n",
            "5  Carlos  28.1  carlos@mail.com     Brasil  Masculino        2\n"
          ]
        }
      ]
    }
  ]
}